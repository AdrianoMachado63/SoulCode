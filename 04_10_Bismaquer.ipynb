{
  "nbformat": 4,
  "nbformat_minor": 0,
  "metadata": {
    "colab": {
      "provenance": [],
      "toc_visible": true,
      "authorship_tag": "ABX9TyPC9uvcivMXPxEYbNAwH7nO",
      "include_colab_link": true
    },
    "kernelspec": {
      "name": "python3",
      "display_name": "Python 3"
    },
    "language_info": {
      "name": "python"
    }
  },
  "cells": [
    {
      "cell_type": "markdown",
      "metadata": {
        "id": "view-in-github",
        "colab_type": "text"
      },
      "source": [
        "<a href=\"https://colab.research.google.com/github/AdrianoMachado63/SoulCode/blob/main/04_10_Bismaquer.ipynb\" target=\"_parent\"><img src=\"https://colab.research.google.com/assets/colab-badge.svg\" alt=\"Open In Colab\"/></a>"
      ]
    },
    {
      "cell_type": "markdown",
      "source": [
        "# Nova seção"
      ],
      "metadata": {
        "id": "bl7eC1fCTRaG"
      }
    },
    {
      "cell_type": "code",
      "source": [
        "#Criar um programa que gere os números de 1 a 20\n",
        "#Criar um programa que gere os números de 50 a 100\n",
        "#Criar um programa que gere os números de 10 a 20 em ordem decrescente"
      ],
      "metadata": {
        "id": "ojtdQIzvTTfk"
      },
      "execution_count": null,
      "outputs": []
    },
    {
      "cell_type": "markdown",
      "source": [
        "# While"
      ],
      "metadata": {
        "id": "m8gRd6xXTaHV"
      }
    },
    {
      "cell_type": "code",
      "source": [
        "#Criar um programa que gere os números de 1 a 20\n",
        "contador = 1\n",
        "\n",
        "while contador <= 20:\n",
        "  print(contador)\n",
        "  contador = contador + 1"
      ],
      "metadata": {
        "id": "UBeNHpPyTavN",
        "outputId": "be3ae2be-53fc-440a-929f-aa70d83806d9",
        "colab": {
          "base_uri": "https://localhost:8080/"
        }
      },
      "execution_count": null,
      "outputs": [
        {
          "output_type": "stream",
          "name": "stdout",
          "text": [
            "1\n",
            "2\n",
            "3\n",
            "4\n",
            "5\n",
            "6\n",
            "7\n",
            "8\n",
            "9\n",
            "10\n",
            "11\n",
            "12\n",
            "13\n",
            "14\n",
            "15\n",
            "16\n",
            "17\n",
            "18\n",
            "19\n",
            "20\n"
          ]
        }
      ]
    },
    {
      "cell_type": "markdown",
      "source": [
        "# Nova seção"
      ],
      "metadata": {
        "id": "F-Nkv2oVT2fG"
      }
    },
    {
      "cell_type": "code",
      "source": [
        "#Criar um programa que gere os números de 1 a 20\n",
        "contador = 1\n",
        "\n",
        "while contador < 21:\n",
        "  print(contador)\n",
        "  contador = contador + 1"
      ],
      "metadata": {
        "id": "oqTieCsDT3fU"
      },
      "execution_count": null,
      "outputs": []
    },
    {
      "cell_type": "markdown",
      "source": [
        "# Nova seção"
      ],
      "metadata": {
        "id": "Y0TyFNmaT_Gl"
      }
    },
    {
      "cell_type": "code",
      "source": [
        "#Criar um programa que gere os números de 50 a 100\n",
        "contador = 50\n",
        "\n",
        "while contador <= 100:\n",
        "  print(contador, end=' ')\n",
        "  contador = contador + 1"
      ],
      "metadata": {
        "id": "iekxDf_3T_n1"
      },
      "execution_count": null,
      "outputs": []
    },
    {
      "cell_type": "markdown",
      "source": [
        "# Nova seção"
      ],
      "metadata": {
        "id": "pywuXRD5UGfF"
      }
    },
    {
      "cell_type": "code",
      "source": [
        "#Criar um programa que gere os números de 10 a 20 em ordem decrescente\n",
        "\n",
        "contador = 20\n",
        "while contador >= 10:\n",
        "  print(contador)\n",
        "  contador = contador - 1"
      ],
      "metadata": {
        "id": "i2Zm1vCEUHZM"
      },
      "execution_count": null,
      "outputs": []
    },
    {
      "cell_type": "markdown",
      "source": [
        "# Nova seção"
      ],
      "metadata": {
        "id": "_mBApmNfUOq-"
      }
    },
    {
      "cell_type": "code",
      "source": [
        "#OPERADORES DE ATRIBUIÇÃO\n",
        "'''\n",
        "= Atribuição simples\n",
        "+= Atribuição com soma\n",
        "-= Atribuição com subtração\n",
        "*= Atribuição com multiplicação\n",
        "/= Atribuição com divisão\n",
        "%= Atribuição com resto da divisão\n",
        "\n",
        "contador = contador + 1\n",
        "contador += 1\n",
        "\n",
        "contador = contador - 1\n",
        "contador -= 1\n",
        "'''"
      ],
      "metadata": {
        "id": "1HPa4ImnUPa0"
      },
      "execution_count": null,
      "outputs": []
    },
    {
      "cell_type": "markdown",
      "source": [
        "# Nova seção"
      ],
      "metadata": {
        "id": "Ms6DjQrdUUkO"
      }
    },
    {
      "cell_type": "code",
      "source": [
        "#VALIDAÇÃO COM WHILE\n",
        "\n",
        "nota = float(input(\"Digite uma nota entre 0 e 10: \"))\n",
        "\n",
        "while nota < 0 or nota > 10:\n",
        "  print('Você digitou uma Nota Inválida!!!')\n",
        "  nota = float(input(\"Digite uma nota entre 0 e 10: \"))"
      ],
      "metadata": {
        "id": "_BSBZa4DUVHl"
      },
      "execution_count": null,
      "outputs": []
    },
    {
      "cell_type": "markdown",
      "source": [
        "# Nova seção"
      ],
      "metadata": {
        "id": "I1J3TnmCUdg9"
      }
    },
    {
      "cell_type": "code",
      "source": [
        "Digite uma nota entre 0 e 10: -5\n",
        "Você digitou uma Nota Inválida!!!\n",
        "Digite uma nota entre 0 e 10: 50\n",
        "Você digitou uma Nota Inválida!!!\n",
        "Digite uma nota entre 0 e 10: 8"
      ],
      "metadata": {
        "id": "N3kfIjnHUd5d"
      },
      "execution_count": null,
      "outputs": []
    },
    {
      "cell_type": "markdown",
      "source": [
        "# Nova seção"
      ],
      "metadata": {
        "id": "JWKbWvfNUks2"
      }
    },
    {
      "cell_type": "code",
      "source": [
        "'''\n",
        "1) Faça um programa que leia duas variáveis A e B com números inteiros.\n",
        " Em seguida inverta os valores de A e B. Exemplo: A = 5, B = 3 , deverá ficar assim: A = 3, B = 5\n",
        "\n",
        "1) Digite o valor de A - OK\n",
        "2) Digite o valor de B - OK\n",
        "3) criar uma variável auxiliar contendo o valor de A - OK\n",
        "4) Pegar o valor de B e atribuir em A (A = B) - OK\n",
        "5) Pegar o valor de AUX e atribuir em B - OK\n",
        "6) Printar na tela os valores de A e B\n",
        "\n",
        "'''\n",
        "A = int(input('Digite o valor de A: '))\n",
        "B = int(input('Digite o valor de B: '))\n",
        "print('O valor de A é ', A , 'E o valor de B é ', B)\n",
        "AUX = A\n",
        "A = B\n",
        "B = AUX\n",
        "print('O valor de A é ', A , 'E o valor de B é ', B)"
      ],
      "metadata": {
        "id": "dJMcDE5WUl_V"
      },
      "execution_count": null,
      "outputs": []
    },
    {
      "cell_type": "markdown",
      "source": [
        "# Nova seção"
      ],
      "metadata": {
        "id": "de4GkRXBUrY1"
      }
    },
    {
      "cell_type": "code",
      "source": [
        "'''\n",
        "2) Faça um Programa que leia 3 números inteiros e mostre o maior deles.\n",
        "'''"
      ],
      "metadata": {
        "id": "_iRzdk0sUsFc"
      },
      "execution_count": null,
      "outputs": []
    },
    {
      "cell_type": "markdown",
      "source": [
        "# Nova seção"
      ],
      "metadata": {
        "id": "Rq32FBQsUwNu"
      }
    },
    {
      "cell_type": "code",
      "source": [
        "'''\n",
        "3) Faça um Programa que pergunte em que turno você estuda. Peça para digitar M-matutino ou\n",
        "V-Vespertino ou N- Noturno. Imprima a mensagem \"Bom Dia!\",\n",
        " \"Boa Tarde!\" ou \"Boa Noite!\" ou \"Valor Inválido!\", conforme o caso.\n",
        "'''"
      ],
      "metadata": {
        "id": "kMlxcCosUxZ9"
      },
      "execution_count": null,
      "outputs": []
    },
    {
      "cell_type": "markdown",
      "source": [
        "# Nova seção"
      ],
      "metadata": {
        "id": "kVguJ8P9U6cW"
      }
    },
    {
      "cell_type": "code",
      "source": [
        "'''\n",
        "4) Faça um Programa que peça um número correspondente a um determinado ano e\n",
        "em seguida informe se este ano é ou não bissexto. Para que um ano seja Bissexto\n",
        " ele tem que seguir aos seguintes critérios:\n",
        "\n",
        "Ser múltiplo de 4 e não ser múltiplo de 100 ou ser múltiplo de 400.\n",
        "'''"
      ],
      "metadata": {
        "id": "94uSrJSpU68_"
      },
      "execution_count": null,
      "outputs": []
    },
    {
      "cell_type": "markdown",
      "source": [
        "# Nova seção"
      ],
      "metadata": {
        "id": "b5Jw2FcQVAz9"
      }
    },
    {
      "cell_type": "code",
      "source": [
        "'''\n",
        "1) Faça um algoritmo que imprima na tela uma sequência de 10 números pares a partir do 1.\n",
        "'''"
      ],
      "metadata": {
        "id": "aW9kkFctVB-F"
      },
      "execution_count": null,
      "outputs": []
    },
    {
      "cell_type": "markdown",
      "source": [
        "# Nova seção"
      ],
      "metadata": {
        "id": "0dtvJqyzVGx-"
      }
    },
    {
      "cell_type": "code",
      "source": [
        "'''\n",
        "2) Faça um programa que apresente na tela os 10 primeiros números negativos.\n",
        "'''"
      ],
      "metadata": {
        "id": "9F4IOZUkVHaF"
      },
      "execution_count": null,
      "outputs": []
    },
    {
      "cell_type": "markdown",
      "source": [
        "# Nova seção"
      ],
      "metadata": {
        "id": "li88um-sVL1l"
      }
    },
    {
      "cell_type": "code",
      "source": [
        "'''\n",
        "3) Faça um algoritmo que leia um número positivo e imprima na tela todos os divisores desse número\n",
        "'''"
      ],
      "metadata": {
        "id": "lifG7-GoVMOs"
      },
      "execution_count": null,
      "outputs": []
    },
    {
      "cell_type": "markdown",
      "source": [
        "# Nova seção"
      ],
      "metadata": {
        "id": "iYMkUEXCVRud"
      }
    },
    {
      "cell_type": "code",
      "source": [
        "'''\n",
        "4) Escreva um algoritmo que leia um valor inicial A e uma razão R e imprima uma seqüência em P.A. contendo 10 valores.\n",
        "'''"
      ],
      "metadata": {
        "id": "FqpvMLSoVSh0"
      },
      "execution_count": null,
      "outputs": []
    },
    {
      "cell_type": "markdown",
      "source": [
        "# Nova seção"
      ],
      "metadata": {
        "id": "optYWsv6VWRN"
      }
    },
    {
      "cell_type": "code",
      "source": [
        "'''\n",
        "5) Escrever um algoritmo que gera e escreve os números ímpares entre 100 e 200.\n",
        "'''"
      ],
      "metadata": {
        "id": "7lI4ddv_VXGm",
        "outputId": "94a8433c-3d30-4508-a1a4-9b116256bc12",
        "colab": {
          "base_uri": "https://localhost:8080/",
          "height": 54
        }
      },
      "execution_count": null,
      "outputs": [
        {
          "output_type": "execute_result",
          "data": {
            "text/plain": [
              "'\\n5) Escrever um algoritmo que gera e escreve os números ímpares entre 100 e 200.\\n'"
            ],
            "application/vnd.google.colaboratory.intrinsic+json": {
              "type": "string"
            }
          },
          "metadata": {},
          "execution_count": 1
        }
      ]
    },
    {
      "cell_type": "markdown",
      "source": [
        "# Nova seção"
      ],
      "metadata": {
        "id": "yiSlDonjVbow"
      }
    },
    {
      "cell_type": "code",
      "source": [
        "'''\n",
        "6) Escreva um algoritmo que leia um valor inicial A e imprima a seqüência de valores do cálculo de A! e o seu resultado. Ex: 5! = 5 X 4 X 3 X 2 X 1 = 120\n",
        "'''"
      ],
      "metadata": {
        "id": "OKiQYABhVcXM",
        "outputId": "c352c41c-517e-4ac0-face-d7265db5af71",
        "colab": {
          "base_uri": "https://localhost:8080/",
          "height": 54
        }
      },
      "execution_count": null,
      "outputs": [
        {
          "output_type": "execute_result",
          "data": {
            "text/plain": [
              "'\\n6) Escreva um algoritmo que leia um valor inicial A e imprima a seqüência de valores do cálculo de A! e o seu resultado. Ex: 5! = 5 X 4 X 3 X 2 X 1 = 120\\n'"
            ],
            "application/vnd.google.colaboratory.intrinsic+json": {
              "type": "string"
            }
          },
          "metadata": {},
          "execution_count": 4
        }
      ]
    }
  ]
}