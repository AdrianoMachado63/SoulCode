{
  "nbformat": 4,
  "nbformat_minor": 0,
  "metadata": {
    "colab": {
      "provenance": [],
      "authorship_tag": "ABX9TyMfuX+xFyFCrsTcMz4rCmqs",
      "include_colab_link": true
    },
    "kernelspec": {
      "name": "python3",
      "display_name": "Python 3"
    },
    "language_info": {
      "name": "python"
    }
  },
  "cells": [
    {
      "cell_type": "markdown",
      "metadata": {
        "id": "view-in-github",
        "colab_type": "text"
      },
      "source": [
        "<a href=\"https://colab.research.google.com/github/AdrianoMachado63/SoulCode/blob/main/ex_if_elif_Notas.ipynb\" target=\"_parent\"><img src=\"https://colab.research.google.com/assets/colab-badge.svg\" alt=\"Open In Colab\"/></a>"
      ]
    },
    {
      "cell_type": "code",
      "execution_count": null,
      "metadata": {
        "colab": {
          "base_uri": "https://localhost:8080/"
        },
        "collapsed": true,
        "id": "OFv2c63E5x4j",
        "outputId": "8c88881d-5835-4938-c1e2-76cae1ee3c12"
      },
      "outputs": [
        {
          "output_type": "stream",
          "name": "stdout",
          "text": [
            "Digite a nota do aluno: 6\n",
            "Parabéns você foi aprovado!\n"
          ]
        }
      ],
      "source": [
        "'''\n",
        "Leia uma nota:\n",
        "Agora imagine que você tem três possibilidades:\n",
        "1ª Nota maior ou igual a 6: 'Parabéns você foi aprovado!'\n",
        "2ª Nota menor que 6, mas maior ou igual a 4: 'Você deverá fazer uma prova de recuperação'\n",
        "3ª Nota menor que 4:'Infelizmente você não foi aprovado dessa vez! continue tentando.'\n",
        "'''\n",
        "\n",
        "nota = float(input(\"Digite a nota do aluno: \"))\n",
        "if nota >= 6:\n",
        "    print(\"Parabéns você foi aprovado!\")\n",
        "elif nota >= 4:\n",
        "    print(\"Você deverá fazer uma prova de recuperação\")\n",
        "else:\n",
        "    print(\"Infelizmente você não foi aprovado dessa vez! continue tentando.\")"
      ]
    }
  ]
}