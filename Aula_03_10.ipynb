{
  "nbformat": 4,
  "nbformat_minor": 0,
  "metadata": {
    "colab": {
      "provenance": [],
      "toc_visible": true,
      "authorship_tag": "ABX9TyN4h5jx7Pn878P9wioFsb55",
      "include_colab_link": true
    },
    "kernelspec": {
      "name": "python3",
      "display_name": "Python 3"
    },
    "language_info": {
      "name": "python"
    }
  },
  "cells": [
    {
      "cell_type": "markdown",
      "metadata": {
        "id": "view-in-github",
        "colab_type": "text"
      },
      "source": [
        "<a href=\"https://colab.research.google.com/github/AdrianoMachado63/SoulCode/blob/main/Aula_03_10.ipynb\" target=\"_parent\"><img src=\"https://colab.research.google.com/assets/colab-badge.svg\" alt=\"Open In Colab\"/></a>"
      ]
    },
    {
      "cell_type": "markdown",
      "source": [
        "# Nova seção"
      ],
      "metadata": {
        "id": "_R4aRrEhk_xB"
      }
    },
    {
      "cell_type": "code",
      "execution_count": null,
      "metadata": {
        "colab": {
          "base_uri": "https://localhost:8080/"
        },
        "id": "5KKCGGFaTahP",
        "outputId": "9d020904-3e06-433f-bd73-8ce751fe7078"
      },
      "outputs": [
        {
          "output_type": "stream",
          "name": "stdout",
          "text": [
            "0.3333333333333335\n",
            "3.3333333333333335\n",
            "3\n"
          ]
        }
      ],
      "source": [
        "'''\n",
        "VC tem ter possib\n",
        "leia uma nota\n",
        ">= 6 - parabéns vc foi aprov\n",
        ">= 4 ----vc devera fazer recup\n",
        "<4---- infelism vc foi reprov\n",
        "'''\n",
        "nota = float(input('leia uma nota'))\n",
        "if nota >=6:\n",
        "  print('Parabens vc foi aprovado')\n",
        "elif nota >=4:\n",
        "  print('Vc devera fazer recuperação')\n",
        "else:\n",
        "  print('Vc foi reprovado')\n",
        "\n",
        "'''\n",
        "Agora imagine q vc tem 4 possib\n",
        ">= 6 - parabéns vc foi aprov\n",
        " <6 mas >= 4 ----vc devera fazer recup\n",
        " <4 mas >=2---- vc devera fazer recup\n",
        " <2 --- vc foi reprov\n",
        "'''\n",
        " nota = float(input('digite uma nota'))\n",
        " if nota >= 6:\n",
        "   print('parabens vc foi aprovado')\n",
        " elif nota >= 4:\n",
        "   print('Vc devera fazer recuperação')\n",
        " elif nota >= 2:\n",
        "   print('Vc devera fazer recuperação')\n",
        " else:\n",
        "   print('Vc foi reprovado\n",
        "\n",
        "\n",
        "\n",
        "\n",
        "'''  extras\n",
        "Resto da divisão\n",
        "obter o resto da divisão quando o numero é menor que o divisor\n",
        "'''\n",
        "# numero1 = 7\n",
        "# numero2 = 10\n",
        "# resto = numero1 % numero2\n",
        "# print(resto)\n",
        "\n",
        "\n",
        "'''\n",
        "crie um algoritmo que receba dois numeros float e retorne as quatro operaçoes basicas da matematica\n",
        "'''\n",
        "# numero1 = float(input(\"Digite o primeiro numero: \"))\n",
        "# numero2 = float(input(\"Digite o segundo numero: \"))\n",
        "# soma = numero1 + numero2\n",
        "# subtracao = numero1 - numero2\n",
        "# multiplicacao = numero1 * numero2\n",
        "# if numero2 == 0:\n",
        "#     print(\"Não é possivel dividir por zero\")\n",
        "# else:\n",
        "#  divisao = numero1 / numero2\n",
        "\n",
        "# print(f\"A soma é: {soma}\")\n",
        "# print(f\"A subtração é: {subtracao}\")\n",
        "# print(f\"A multiplicação é: {multiplicacao}\")\n",
        "# print(f\"A divisão é: {divisao}\")\n",
        "\n",
        "'''\n",
        "Crie um algoritmo que exiba apenas a parte decimal da divisão de 10 por 3\n",
        "'''\n",
        "# numero1 = 10\n",
        "# numero2 = 3\n",
        "# divisao = numero1 / numero2\n",
        "# parte_decimal = divisao - int(divisao)\n",
        "# print(parte_decimal)\n",
        "# print(divisao)\n",
        "# print(int(divisao))\n",
        "\n",
        "\n",
        "'''\n",
        "Leia uma nota:\n",
        "Agora imagine que você tem quatro possibilidades:\n",
        "1ª Nota maior ou igual a 6: 'Parabéns você foi aprovado!'\n",
        "2ª Nota menor que 6, mas maior ou igual a 4: 'Você deverá fazer uma prova de recuperação online'\n",
        "3ª Nota menor 4, mas maior ou igual a 2: 'Você deverá fazer uma prova de recuperação presencial'\n",
        "4ª Nota menor que 2:'Infelizmente você não foi aprovado dessa vez! continue tentando.'\n",
        "'''\n",
        "\n",
        "nota = input('digite uma nota')\n",
        "if nota >= '6':\n",
        "    print('Parabéns você foi aprovado!')\n",
        "elif nota < '6' and nota >= '4':\n",
        "    print('Você deverá fazer uma prova de recuperação online')\n",
        "elif nota < '4' and nota >= '2':\n",
        "    print('Você deverá fazer uma prova de recuperação presencial')\n",
        "else:\n",
        "    print('Infelizmente você não foi aprovado dessa vez! continue tentando.')"
      ]
    },
    {
      "cell_type": "markdown",
      "source": [
        "# teste2"
      ],
      "metadata": {
        "id": "iZB0bB9Nkn0f"
      }
    }
  ]
}